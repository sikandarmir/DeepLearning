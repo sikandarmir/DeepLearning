{
  "nbformat": 4,
  "nbformat_minor": 0,
  "metadata": {
    "colab": {
      "name": "Activation Functions | Deep Learning.ipynb",
      "provenance": [],
      "collapsed_sections": [
        "sIxoUo96G5kI",
        "bY5FvLYzH2h6"
      ],
      "authorship_tag": "ABX9TyN0lRZzWrz0OipJ2+NV+Yaq",
      "include_colab_link": true
    },
    "kernelspec": {
      "name": "python3",
      "display_name": "Python 3"
    },
    "language_info": {
      "name": "python"
    }
  },
  "cells": [
    {
      "cell_type": "markdown",
      "metadata": {
        "id": "view-in-github",
        "colab_type": "text"
      },
      "source": [
        "<a href=\"https://colab.research.google.com/github/sikandarmir/DeepLearning/blob/main/Activation_Functions_%7C_Deep_Learning.ipynb\" target=\"_parent\"><img src=\"https://colab.research.google.com/assets/colab-badge.svg\" alt=\"Open In Colab\"/></a>"
      ]
    },
    {
      "cell_type": "code",
      "metadata": {
        "id": "rskhubGgaxbD"
      },
      "source": [
        ""
      ],
      "execution_count": null,
      "outputs": []
    },
    {
      "cell_type": "markdown",
      "metadata": {
        "id": "sIxoUo96G5kI"
      },
      "source": [
        "### Activation Functions\n",
        "An activation function in a neural network defines how the weighted sum of the input is transformed into an output from a node or nodes in a layer of the network"
      ]
    },
    {
      "cell_type": "markdown",
      "metadata": {
        "id": "bY5FvLYzH2h6"
      },
      "source": [
        "# Types of Neural Networks Activation Functions\n",
        "Binary Step Function.\n",
        "\n",
        "Linear Activation Function.\n",
        "\n",
        "Sigmoid/Logistic Activation Function.\n",
        "\n",
        "The derivative of the Sigmoid Activation Function.\n",
        "\n",
        "Tanh Function (Hyperbolic Tangent)\n",
        "\n",
        "Gradient of the Tanh Activation Function.\n",
        "\n",
        "ReLU Activation Function.\n",
        "\n",
        "The Dying ReLU problem."
      ]
    },
    {
      "cell_type": "markdown",
      "metadata": {
        "id": "dNbojneQIaz7"
      },
      "source": [
        "# Implemantion of Activation Function"
      ]
    },
    {
      "cell_type": "code",
      "metadata": {
        "id": "Vhz-h5Qeazag"
      },
      "source": [
        "#Sigmoid Fuction Covert value from 0,1\n",
        "import math\n",
        "def sigmoid(x):\n",
        "  return 1/(1+math.exp(-x))"
      ],
      "execution_count": 2,
      "outputs": []
    },
    {
      "cell_type": "code",
      "metadata": {
        "id": "BAY4Lndda38O",
        "colab": {
          "base_uri": "https://localhost:8080/"
        },
        "outputId": "e6a6dec6-942a-4651-83de-58fb4e7b8ee4"
      },
      "source": [
        "sigmoid(100)"
      ],
      "execution_count": 3,
      "outputs": [
        {
          "output_type": "execute_result",
          "data": {
            "text/plain": [
              "1.0"
            ]
          },
          "metadata": {},
          "execution_count": 3
        }
      ]
    },
    {
      "cell_type": "code",
      "metadata": {
        "colab": {
          "base_uri": "https://localhost:8080/"
        },
        "id": "pFlNksJuI61h",
        "outputId": "bdf63f6e-951d-4b23-bba8-c4e5feeeee05"
      },
      "source": [
        "sigmoid(1)"
      ],
      "execution_count": 4,
      "outputs": [
        {
          "output_type": "execute_result",
          "data": {
            "text/plain": [
              "0.7310585786300049"
            ]
          },
          "metadata": {},
          "execution_count": 4
        }
      ]
    },
    {
      "cell_type": "code",
      "metadata": {
        "colab": {
          "base_uri": "https://localhost:8080/"
        },
        "id": "8LL08X8hI9MG",
        "outputId": "1744c2ef-35a9-4eb4-92fb-ddd91cb148e5"
      },
      "source": [
        "sigmoid(-50) #e-12 mean very very Close to 0"
      ],
      "execution_count": 6,
      "outputs": [
        {
          "output_type": "execute_result",
          "data": {
            "text/plain": [
              "1.928749847963918e-22"
            ]
          },
          "metadata": {},
          "execution_count": 6
        }
      ]
    },
    {
      "cell_type": "code",
      "metadata": {
        "id": "-aNejmKBJPCb"
      },
      "source": [
        "#Tanh Function covert value form -1 to 1\n",
        "def tanh(x):\n",
        "  return (math.exp(x)-math.exp(-x))/(math.exp(x)+math.exp(-x))\n"
      ],
      "execution_count": 13,
      "outputs": []
    },
    {
      "cell_type": "code",
      "metadata": {
        "colab": {
          "base_uri": "https://localhost:8080/"
        },
        "id": "q13WqXvbJ0LD",
        "outputId": "891915a9-45d9-48dc-a3f2-c2882b562d9f"
      },
      "source": [
        "tanh(-56)"
      ],
      "execution_count": 14,
      "outputs": [
        {
          "output_type": "execute_result",
          "data": {
            "text/plain": [
              "-1.0"
            ]
          },
          "metadata": {},
          "execution_count": 14
        }
      ]
    },
    {
      "cell_type": "code",
      "metadata": {
        "colab": {
          "base_uri": "https://localhost:8080/"
        },
        "id": "KinhqdJ7KJ9y",
        "outputId": "862f6768-d8de-46f8-b145-80dbdfb61fcc"
      },
      "source": [
        "tanh(0)"
      ],
      "execution_count": 15,
      "outputs": [
        {
          "output_type": "execute_result",
          "data": {
            "text/plain": [
              "0.0"
            ]
          },
          "metadata": {},
          "execution_count": 15
        }
      ]
    },
    {
      "cell_type": "code",
      "metadata": {
        "colab": {
          "base_uri": "https://localhost:8080/"
        },
        "id": "dLe4G9PxKMv5",
        "outputId": "22bce40e-b89f-4db5-8d7b-c2e71e8ea556"
      },
      "source": [
        "tanh(50)"
      ],
      "execution_count": 16,
      "outputs": [
        {
          "output_type": "execute_result",
          "data": {
            "text/plain": [
              "1.0"
            ]
          },
          "metadata": {},
          "execution_count": 16
        }
      ]
    },
    {
      "cell_type": "code",
      "metadata": {
        "colab": {
          "base_uri": "https://localhost:8080/"
        },
        "id": "ZZ0ACPlKKPT0",
        "outputId": "134b58c4-a17e-4535-9360-1c2d11e657f0"
      },
      "source": [
        "tanh(1)"
      ],
      "execution_count": 17,
      "outputs": [
        {
          "output_type": "execute_result",
          "data": {
            "text/plain": [
              "0.7615941559557649"
            ]
          },
          "metadata": {},
          "execution_count": 17
        }
      ]
    },
    {
      "cell_type": "code",
      "metadata": {
        "id": "95wUeGbAKges"
      },
      "source": [
        "# Relu function give us the max value and if the value is negative it give us 0\n",
        "def relu(x):\n",
        "  return max(0,x)"
      ],
      "execution_count": 19,
      "outputs": []
    },
    {
      "cell_type": "code",
      "metadata": {
        "colab": {
          "base_uri": "https://localhost:8080/"
        },
        "id": "-Z7Vsy30Kzs6",
        "outputId": "6f7cc480-1944-48e9-8365-287f1f2e5821"
      },
      "source": [
        "relu(-100)"
      ],
      "execution_count": 20,
      "outputs": [
        {
          "output_type": "execute_result",
          "data": {
            "text/plain": [
              "0"
            ]
          },
          "metadata": {},
          "execution_count": 20
        }
      ]
    },
    {
      "cell_type": "code",
      "metadata": {
        "colab": {
          "base_uri": "https://localhost:8080/"
        },
        "id": "zr9-npW8K-lH",
        "outputId": "11bbf2b7-351f-45a4-d4db-6203b502013c"
      },
      "source": [
        "relu(8)"
      ],
      "execution_count": 21,
      "outputs": [
        {
          "output_type": "execute_result",
          "data": {
            "text/plain": [
              "8"
            ]
          },
          "metadata": {},
          "execution_count": 21
        }
      ]
    },
    {
      "cell_type": "code",
      "metadata": {
        "id": "QgVMXP9ALBNU"
      },
      "source": [
        ""
      ],
      "execution_count": null,
      "outputs": []
    }
  ]
}