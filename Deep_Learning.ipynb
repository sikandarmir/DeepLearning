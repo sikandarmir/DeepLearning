{
  "nbformat": 4,
  "nbformat_minor": 0,
  "metadata": {
    "colab": {
      "name": "Deep_Learning.ipynb",
      "provenance": [],
      "authorship_tag": "ABX9TyM1Udsdf0s9TIxgEAYpNIII",
      "include_colab_link": true
    },
    "kernelspec": {
      "name": "python3",
      "display_name": "Python 3"
    },
    "language_info": {
      "name": "python"
    }
  },
  "cells": [
    {
      "cell_type": "markdown",
      "metadata": {
        "id": "view-in-github",
        "colab_type": "text"
      },
      "source": [
        "<a href=\"https://colab.research.google.com/github/sikandarmir/DeepLearning/blob/main/Deep_Learning.ipynb\" target=\"_parent\"><img src=\"https://colab.research.google.com/assets/colab-badge.svg\" alt=\"Open In Colab\"/></a>"
      ]
    },
    {
      "cell_type": "markdown",
      "metadata": {
        "id": "p2Q4IFRd9q0L"
      },
      "source": [
        ""
      ]
    },
    {
      "cell_type": "markdown",
      "metadata": {
        "id": "fgIHK-hvDhSx"
      },
      "source": [
        ""
      ]
    },
    {
      "cell_type": "markdown",
      "metadata": {
        "id": "ck6lf8ctDhV6"
      },
      "source": [
        ""
      ]
    },
    {
      "cell_type": "markdown",
      "metadata": {
        "id": "Us6zvzTbDhYy"
      },
      "source": [
        ""
      ]
    },
    {
      "cell_type": "markdown",
      "metadata": {
        "id": "BJyeYyAkDhcM"
      },
      "source": [
        "#Basic stucture of Neural Network\n",
        "**model = keras.Sequential([\n",
        "    keras.layers.Dense(10, input_shape=(784,), activation='sigmoid')\n",
        " ])**\n",
        "\n",
        "Dense:Mean That it connected to each other \n",
        "\n",
        "where 10 mean is output\n",
        "\n",
        "inputshape shape mean input layer(1D array) for example our image size is 28*28\n",
        "its two diamension so we convert our image into 1D array 28*28=784\n",
        "activtion =is used for to decide the out put value so later tutorial we discused in detail the activation function  "
      ]
    },
    {
      "cell_type": "markdown",
      "metadata": {
        "id": "ZMm0IRGEDhok"
      },
      "source": [
        "#Hidden Layer\n",
        "**model = keras.Sequential([\n",
        "    keras.layers.Dense(100, input_shape=(784,), activation='relu'),\n",
        "    keras.layers.Dense(10, activation='sigmoid')\n",
        "])**\n",
        " \n",
        " keras.layers.Dense(100, input_shape=(784,), activation='relu'), This is hidden layer that we insert in our neural network so we add 100 hidden layer in our network\n"
      ]
    },
    {
      "cell_type": "markdown",
      "metadata": {
        "id": "5OrfjmUwF272"
      },
      "source": [
        "## Flatten\n",
        "model = keras.Sequential([\n",
        "###    keras.layers.Flatten(input_shape=(28, 28)),\n",
        "    keras.layers.Dense(100, activation='relu'),\n",
        "    keras.layers.Dense(10, activation='sigmoid')\n",
        "])\n",
        "So if do not want to convert our array from 2D to one 1D keras give us the Flatten layer in which our array is atomatically covert from 1D to 2D"
      ]
    },
    {
      "cell_type": "code",
      "metadata": {
        "id": "yr0YSOMvF0zv"
      },
      "source": [
        ""
      ],
      "execution_count": null,
      "outputs": []
    }
  ]
}