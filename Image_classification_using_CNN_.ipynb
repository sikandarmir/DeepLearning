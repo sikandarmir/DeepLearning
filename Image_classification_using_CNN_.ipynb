{
  "nbformat": 4,
  "nbformat_minor": 0,
  "metadata": {
    "colab": {
      "name": "Image classification using CNN .ipynb",
      "provenance": [],
      "collapsed_sections": [],
      "authorship_tag": "ABX9TyPfhwMaDZVYhnhUAUCeAnLE",
      "include_colab_link": true
    },
    "kernelspec": {
      "name": "python3",
      "display_name": "Python 3"
    },
    "language_info": {
      "name": "python"
    },
    "accelerator": "GPU"
  },
  "cells": [
    {
      "cell_type": "markdown",
      "metadata": {
        "id": "view-in-github",
        "colab_type": "text"
      },
      "source": [
        "<a href=\"https://colab.research.google.com/github/sikandarmir/DeepLearning/blob/main/Image_classification_using_CNN_.ipynb\" target=\"_parent\"><img src=\"https://colab.research.google.com/assets/colab-badge.svg\" alt=\"Open In Colab\"/></a>"
      ]
    },
    {
      "cell_type": "code",
      "metadata": {
        "id": "XaTBpAP5aHKj"
      },
      "source": [
        "import tensorflow as tf\n",
        "from tensorflow.keras import datasets, layers,models\n",
        "import matplotlib.pyplot as plt\n",
        "import numpy as np"
      ],
      "execution_count": 1,
      "outputs": []
    },
    {
      "cell_type": "code",
      "metadata": {
        "colab": {
          "base_uri": "https://localhost:8080/"
        },
        "id": "jK95kWruaUWG",
        "outputId": "64859555-0313-4fd1-ddfc-2ef1c9c2bda6"
      },
      "source": [
        "(x_train,y_train,),(x_test,y_test)=datasets.cifar10.load_data()"
      ],
      "execution_count": 2,
      "outputs": [
        {
          "output_type": "stream",
          "name": "stdout",
          "text": [
            "Downloading data from https://www.cs.toronto.edu/~kriz/cifar-10-python.tar.gz\n",
            "170500096/170498071 [==============================] - 2s 0us/step\n",
            "170508288/170498071 [==============================] - 2s 0us/step\n"
          ]
        }
      ]
    },
    {
      "cell_type": "code",
      "metadata": {
        "colab": {
          "base_uri": "https://localhost:8080/"
        },
        "id": "jBETGtTFatYU",
        "outputId": "43aa9bc0-99d8-4627-fac5-f3464fe3ef51"
      },
      "source": [
        "x_train.shape"
      ],
      "execution_count": 3,
      "outputs": [
        {
          "output_type": "execute_result",
          "data": {
            "text/plain": [
              "(50000, 32, 32, 3)"
            ]
          },
          "metadata": {},
          "execution_count": 3
        }
      ]
    },
    {
      "cell_type": "code",
      "metadata": {
        "colab": {
          "base_uri": "https://localhost:8080/"
        },
        "id": "1CqFvgy6cU0r",
        "outputId": "154e1d44-1c60-4df0-b51e-7edd60ac8c76"
      },
      "source": [
        "y_train.shape\n",
        "y_train[:5]\n"
      ],
      "execution_count": 4,
      "outputs": [
        {
          "output_type": "execute_result",
          "data": {
            "text/plain": [
              "array([[6],\n",
              "       [9],\n",
              "       [9],\n",
              "       [4],\n",
              "       [1]], dtype=uint8)"
            ]
          },
          "metadata": {},
          "execution_count": 4
        }
      ]
    },
    {
      "cell_type": "code",
      "metadata": {
        "colab": {
          "base_uri": "https://localhost:8080/"
        },
        "id": "-M60gIWbcoZt",
        "outputId": "948f75a6-b7d6-48fe-f57d-f85c613acb05"
      },
      "source": [
        "y_train=y_train.reshape(-1,) #Now its 1D Array -1 mean no change\n",
        "y_train[:5]"
      ],
      "execution_count": 5,
      "outputs": [
        {
          "output_type": "execute_result",
          "data": {
            "text/plain": [
              "array([6, 9, 9, 4, 1], dtype=uint8)"
            ]
          },
          "metadata": {},
          "execution_count": 5
        }
      ]
    },
    {
      "cell_type": "code",
      "metadata": {
        "id": "0CMlwwCla94t"
      },
      "source": [
        "x_test.shape\n",
        "classes=['airplane','automobile','bird','cat','deer','dog','frog','horse','ship','truck']"
      ],
      "execution_count": 6,
      "outputs": []
    },
    {
      "cell_type": "code",
      "metadata": {
        "id": "TBhANRZcbByq"
      },
      "source": [
        "def plot_sample(X,y,index):\n",
        "  plt.figure(figsize=(15,2))\n",
        "  plt.imshow(x_train[index])\n",
        "  plt.xlabel(classes[y[index]])\n"
      ],
      "execution_count": 7,
      "outputs": []
    },
    {
      "cell_type": "code",
      "metadata": {
        "colab": {
          "base_uri": "https://localhost:8080/",
          "height": 641
        },
        "id": "IGcpLcf4bEtl",
        "outputId": "23219698-b6bf-49b2-e5d5-6f234d4fd878"
      },
      "source": [
        "plot_sample(x_train,y_train,0)\n",
        "plot_sample(x_train,y_train,1)\n",
        "plot_sample(x_train,y_train,2)\n",
        "plot_sample(x_train,y_train,4)"
      ],
      "execution_count": 8,
      "outputs": [
        {
          "output_type": "display_data",
          "data": {
            "image/png": "[encoded data removed]",
            "text/plain": [
              "<Figure size 1080x144 with 1 Axes>"
            ]
          },
          "metadata": {
            "needs_background": "light"
          }
        },
        {
          "output_type": "display_data",
          "data": {
            "image/png": "[encoded data removed]",
            "text/plain": [
              "<Figure size 1080x144 with 1 Axes>"
            ]
          },
          "metadata": {
            "needs_background": "light"
          }
        },
        {
          "output_type": "display_data",
          "data": {
            "image/png": "[encoded data removed]",
            "text/plain": [
              "<Figure size 1080x144 with 1 Axes>"
            ]
          },
          "metadata": {
            "needs_background": "light"
          }
        },
        {
          "output_type": "display_data",
          "data": {
            "image/png": "[encoded data removed]",
            "text/plain": [
              "<Figure size 1080x144 with 1 Axes>"
            ]
          },
          "metadata": {
            "needs_background": "light"
          }
        }
      ]
    },
    {
      "cell_type": "code",
      "metadata": {
        "id": "6zYI6iwIdd2D"
      },
      "source": [
        "#Normalizing from 0-1 instead of 1 -255\n",
        "x_train=x_train/255\n",
        "x_test=x_test/255\n"
      ],
      "execution_count": 9,
      "outputs": []
    },
    {
      "cell_type": "markdown",
      "metadata": {
        "id": "qh9mAMzdep_M"
      },
      "source": [
        "Build simple artificial neural network for image classification"
      ]
    },
    {
      "cell_type": "code",
      "metadata": {
        "colab": {
          "base_uri": "https://localhost:8080/"
        },
        "id": "gGPo2iJDeHYj",
        "outputId": "c9ead1a0-c36e-4793-905b-a321ef7a3447"
      },
      "source": [
        "ann = models.Sequential([\n",
        "        layers.Flatten(input_shape=(32,32,3)),\n",
        "        layers.Dense(3000, activation='relu'),\n",
        "        layers.Dense(1000, activation='relu'),\n",
        "        layers.Dense(10, activation='softmax')    \n",
        "    ])\n",
        "\n",
        "ann.compile(optimizer='SGD',\n",
        "              loss='sparse_categorical_crossentropy',\n",
        "              metrics=['accuracy'])\n",
        "\n",
        "ann.fit(x_train, y_train, epochs=5)"
      ],
      "execution_count": 10,
      "outputs": [
        {
          "output_type": "stream",
          "name": "stdout",
          "text": [
            "Epoch 1/5\n",
            "1563/1563 [==============================] - 12s 6ms/step - loss: 1.8118 - accuracy: 0.3557\n",
            "Epoch 2/5\n",
            "1563/1563 [==============================] - 9s 6ms/step - loss: 1.6219 - accuracy: 0.4268\n",
            "Epoch 3/5\n",
            "1563/1563 [==============================] - 9s 6ms/step - loss: 1.5407 - accuracy: 0.4568\n",
            "Epoch 4/5\n",
            "1563/1563 [==============================] - 9s 6ms/step - loss: 1.4802 - accuracy: 0.4797\n",
            "Epoch 5/5\n",
            "1563/1563 [==============================] - 9s 6ms/step - loss: 1.4312 - accuracy: 0.4969\n"
          ]
        },
        {
          "output_type": "execute_result",
          "data": {
            "text/plain": [
              "<keras.callbacks.History at 0x7fd53fbe4790>"
            ]
          },
          "metadata": {},
          "execution_count": 10
        }
      ]
    },
    {
      "cell_type": "code",
      "metadata": {
        "colab": {
          "base_uri": "https://localhost:8080/"
        },
        "id": "TK8LnYXze--U",
        "outputId": "5246d114-2154-4c90-aa80-678f13bcedf8"
      },
      "source": [
        "ann.evaluate(x_test,y_test)"
      ],
      "execution_count": 11,
      "outputs": [
        {
          "output_type": "stream",
          "name": "stdout",
          "text": [
            "313/313 [==============================] - 1s 4ms/step - loss: 1.4933 - accuracy: 0.4658\n"
          ]
        },
        {
          "output_type": "execute_result",
          "data": {
            "text/plain": [
              "[1.4932582378387451, 0.4657999873161316]"
            ]
          },
          "metadata": {},
          "execution_count": 11
        }
      ]
    },
    {
      "cell_type": "code",
      "metadata": {
        "colab": {
          "base_uri": "https://localhost:8080/"
        },
        "id": "UwL0CZb3fh7o",
        "outputId": "6c99ed63-2b1e-42c3-8ca7-6a051ad49cb9"
      },
      "source": [
        "from sklearn.metrics import confusion_matrix , classification_report\n",
        "import numpy as np\n",
        "y_pred = ann.predict(x_test)\n",
        "y_pred_classes = [np.argmax(element) for element in y_pred]\n",
        "\n",
        "print(\"Classification Report: \\n\", classification_report(y_test, y_pred_classes))"
      ],
      "execution_count": 12,
      "outputs": [
        {
          "output_type": "stream",
          "name": "stdout",
          "text": [
            "Classification Report: \n",
            "               precision    recall  f1-score   support\n",
            "\n",
            "           0       0.66      0.45      0.53      1000\n",
            "           1       0.61      0.57      0.59      1000\n",
            "           2       0.32      0.50      0.39      1000\n",
            "           3       0.35      0.35      0.35      1000\n",
            "           4       0.43      0.30      0.35      1000\n",
            "           5       0.50      0.26      0.35      1000\n",
            "           6       0.44      0.68      0.53      1000\n",
            "           7       0.75      0.32      0.45      1000\n",
            "           8       0.74      0.48      0.58      1000\n",
            "           9       0.38      0.74      0.50      1000\n",
            "\n",
            "    accuracy                           0.47     10000\n",
            "   macro avg       0.52      0.47      0.46     10000\n",
            "weighted avg       0.52      0.47      0.46     10000\n",
            "\n"
          ]
        }
      ]
    },
    {
      "cell_type": "code",
      "metadata": {
        "id": "76-kmAFzgaRZ"
      },
      "source": [
        ""
      ],
      "execution_count": 12,
      "outputs": []
    },
    {
      "cell_type": "markdown",
      "metadata": {
        "id": "QW4OQ8Shg_4r"
      },
      "source": [
        "Now CNN Network"
      ]
    },
    {
      "cell_type": "code",
      "metadata": {
        "id": "YH7tuumChCbg"
      },
      "source": [
        "cnn = models.Sequential([\n",
        "    layers.Conv2D(filters=32, kernel_size=(3, 3), activation='relu', input_shape=(32, 32, 3)),\n",
        "    layers.MaxPooling2D((2, 2)),\n",
        "    \n",
        "    layers.Conv2D(filters=64, kernel_size=(3, 3), activation='relu'),\n",
        "    layers.MaxPooling2D((2, 2)),\n",
        "    \n",
        "    layers.Flatten(),\n",
        "    layers.Dense(64, activation='relu'),\n",
        "    layers.Dense(10, activation='softmax')\n",
        "])"
      ],
      "execution_count": 25,
      "outputs": []
    },
    {
      "cell_type": "code",
      "metadata": {
        "id": "XwnknRr3i9B8"
      },
      "source": [
        "\n",
        "cnn.compile(optimizer='adam',\n",
        "              loss='sparse_categorical_crossentropy',\n",
        "              metrics=['accuracy'])"
      ],
      "execution_count": 26,
      "outputs": []
    },
    {
      "cell_type": "code",
      "metadata": {
        "colab": {
          "base_uri": "https://localhost:8080/"
        },
        "id": "oD21F1fDrZOz",
        "outputId": "ac1c18ad-d3b3-43cd-b145-2797f2271110"
      },
      "source": [
        "cnn.fit(x_train, y_train, epochs=10)"
      ],
      "execution_count": 27,
      "outputs": [
        {
          "output_type": "stream",
          "name": "stdout",
          "text": [
            "Epoch 1/10\n",
            "1563/1563 [==============================] - 37s 6ms/step - loss: 1.4523 - accuracy: 0.4823\n",
            "Epoch 2/10\n",
            "1563/1563 [==============================] - 9s 6ms/step - loss: 1.0859 - accuracy: 0.6211\n",
            "Epoch 3/10\n",
            "1563/1563 [==============================] - 9s 6ms/step - loss: 0.9535 - accuracy: 0.6669\n",
            "Epoch 4/10\n",
            "1563/1563 [==============================] - 9s 6ms/step - loss: 0.8725 - accuracy: 0.6969\n",
            "Epoch 5/10\n",
            "1563/1563 [==============================] - 9s 6ms/step - loss: 0.7994 - accuracy: 0.7233\n",
            "Epoch 6/10\n",
            "1563/1563 [==============================] - 9s 6ms/step - loss: 0.7442 - accuracy: 0.7380\n",
            "Epoch 7/10\n",
            "1563/1563 [==============================] - 9s 6ms/step - loss: 0.6930 - accuracy: 0.7582\n",
            "Epoch 8/10\n",
            "1563/1563 [==============================] - 9s 6ms/step - loss: 0.6483 - accuracy: 0.7741\n",
            "Epoch 9/10\n",
            "1563/1563 [==============================] - 9s 6ms/step - loss: 0.6037 - accuracy: 0.7894\n",
            "Epoch 10/10\n",
            "1563/1563 [==============================] - 9s 6ms/step - loss: 0.5616 - accuracy: 0.8046\n"
          ]
        },
        {
          "output_type": "execute_result",
          "data": {
            "text/plain": [
              "<keras.callbacks.History at 0x7fd4c4371590>"
            ]
          },
          "metadata": {},
          "execution_count": 27
        }
      ]
    },
    {
      "cell_type": "code",
      "metadata": {
        "colab": {
          "base_uri": "https://localhost:8080/"
        },
        "id": "8IyxAms4saTu",
        "outputId": "4fa66fd8-ebdf-405a-8f33-966ecda3639e"
      },
      "source": [
        "cnn.evaluate(x_test,y_test)"
      ],
      "execution_count": 31,
      "outputs": [
        {
          "output_type": "stream",
          "name": "stdout",
          "text": [
            "313/313 [==============================] - 1s 4ms/step - loss: 0.9565 - accuracy: 0.6977\n"
          ]
        },
        {
          "output_type": "execute_result",
          "data": {
            "text/plain": [
              "[0.9564912915229797, 0.697700023651123]"
            ]
          },
          "metadata": {},
          "execution_count": 31
        }
      ]
    },
    {
      "cell_type": "code",
      "metadata": {
        "colab": {
          "base_uri": "https://localhost:8080/"
        },
        "id": "rF8QxHmerrrz",
        "outputId": "042bfcc5-0930-49d1-ad32-377ff565bd6f"
      },
      "source": [
        "y_pred = cnn.predict(x_test)\n",
        "y_pred[:5]"
      ],
      "execution_count": 32,
      "outputs": [
        {
          "output_type": "execute_result",
          "data": {
            "text/plain": [
              "array([[1.8544777e-03, 9.6006296e-04, 7.3803923e-05, 9.6652913e-01,\n",
              "        1.2068083e-04, 2.1443846e-02, 7.8946613e-03, 9.9020290e-05,\n",
              "        2.3885031e-04, 7.8528927e-04],\n",
              "       [2.7135311e-05, 2.7348645e-02, 1.3374317e-07, 2.1126700e-08,\n",
              "        8.4783472e-11, 2.0598741e-10, 6.0844600e-11, 8.8616926e-14,\n",
              "        9.7261977e-01, 4.3478390e-06],\n",
              "       [4.5559811e-03, 2.0355435e-01, 3.9373193e-04, 2.1572437e-03,\n",
              "        1.2786085e-05, 4.5095891e-04, 2.8040477e-05, 1.6497601e-04,\n",
              "        7.8361779e-01, 5.0642197e-03],\n",
              "       [8.5138732e-01, 1.0915955e-02, 3.9753724e-02, 2.4560487e-03,\n",
              "        5.1657376e-03, 3.8258757e-05, 7.8584679e-04, 4.4162061e-05,\n",
              "        8.9019001e-02, 4.3398785e-04],\n",
              "       [4.4326765e-07, 1.5950198e-05, 2.8762290e-02, 3.2094959e-02,\n",
              "        3.8095945e-01, 1.9502469e-03, 5.5610853e-01, 1.0614137e-06,\n",
              "        1.0691410e-04, 1.3789573e-07]], dtype=float32)"
            ]
          },
          "metadata": {},
          "execution_count": 32
        }
      ]
    },
    {
      "cell_type": "code",
      "metadata": {
        "colab": {
          "base_uri": "https://localhost:8080/"
        },
        "id": "VVinF_Y7sj7Y",
        "outputId": "8869b9a9-8000-46ef-f2aa-7551264090f6"
      },
      "source": [
        "\n",
        "y_classes = [np.argmax(element) for element in y_pred]\n",
        "y_classes[:5]"
      ],
      "execution_count": 33,
      "outputs": [
        {
          "output_type": "execute_result",
          "data": {
            "text/plain": [
              "[3, 8, 8, 0, 6]"
            ]
          },
          "metadata": {},
          "execution_count": 33
        }
      ]
    },
    {
      "cell_type": "code",
      "metadata": {
        "colab": {
          "base_uri": "https://localhost:8080/"
        },
        "id": "BC2FYwwPsnG0",
        "outputId": "720b8842-0cc5-44b3-e1c7-18562160764b"
      },
      "source": [
        "y_test[:5]"
      ],
      "execution_count": 38,
      "outputs": [
        {
          "output_type": "execute_result",
          "data": {
            "text/plain": [
              "array([[3],\n",
              "       [8],\n",
              "       [8],\n",
              "       [0],\n",
              "       [6]], dtype=uint8)"
            ]
          },
          "metadata": {},
          "execution_count": 38
        }
      ]
    },
    {
      "cell_type": "code",
      "metadata": {
        "colab": {
          "base_uri": "https://localhost:8080/",
          "height": 173
        },
        "id": "hnIKJxPlsqza",
        "outputId": "ca41ab11-89b9-4bc7-ea3a-fd7f77b5ffde"
      },
      "source": [
        "y_test=y_test.reshape(-1,)\n",
        "plot_sample(x_test, y_test,3)"
      ],
      "execution_count": 42,
      "outputs": [
        {
          "output_type": "display_data",
          "data": {
            "image/png": "[encoded data removed]",
            "text/plain": [
              "<Figure size 1080x144 with 1 Axes>"
            ]
          },
          "metadata": {
            "needs_background": "light"
          }
        }
      ]
    },
    {
      "cell_type": "code",
      "metadata": {
        "colab": {
          "base_uri": "https://localhost:8080/",
          "height": 35
        },
        "id": "LEbOOj49s0-X",
        "outputId": "6f2a8a18-5735-4d22-bf67-44e4776677da"
      },
      "source": [
        "classes[y_classes[3]]"
      ],
      "execution_count": 41,
      "outputs": [
        {
          "output_type": "execute_result",
          "data": {
            "application/vnd.google.colaboratory.intrinsic+json": {
              "type": "string"
            },
            "text/plain": [
              "'airplane'"
            ]
          },
          "metadata": {},
          "execution_count": 41
        }
      ]
    },
    {
      "cell_type": "code",
      "metadata": {
        "colab": {
          "base_uri": "https://localhost:8080/",
          "height": 35
        },
        "id": "p3d4yDons2pD",
        "outputId": "ce215206-d9f1-4f43-cdfd-6b1d81f12436"
      },
      "source": [
        "classes[y_classes[3]]"
      ],
      "execution_count": 36,
      "outputs": [
        {
          "output_type": "execute_result",
          "data": {
            "application/vnd.google.colaboratory.intrinsic+json": {
              "type": "string"
            },
            "text/plain": [
              "'airplane'"
            ]
          },
          "metadata": {},
          "execution_count": 36
        }
      ]
    },
    {
      "cell_type": "code",
      "metadata": {
        "colab": {
          "base_uri": "https://localhost:8080/"
        },
        "id": "SAEuPJCMs9jf",
        "outputId": "3b20524a-f3ed-45a2-89ae-9fdd81bc2134"
      },
      "source": [
        "y_pred=cnn.predict(x_test)\n",
        "y_pred[:5]"
      ],
      "execution_count": 43,
      "outputs": [
        {
          "output_type": "execute_result",
          "data": {
            "text/plain": [
              "array([[1.8544777e-03, 9.6006296e-04, 7.3803923e-05, 9.6652913e-01,\n",
              "        1.2068083e-04, 2.1443846e-02, 7.8946613e-03, 9.9020290e-05,\n",
              "        2.3885031e-04, 7.8528927e-04],\n",
              "       [2.7135311e-05, 2.7348645e-02, 1.3374317e-07, 2.1126700e-08,\n",
              "        8.4783472e-11, 2.0598741e-10, 6.0844600e-11, 8.8616926e-14,\n",
              "        9.7261977e-01, 4.3478390e-06],\n",
              "       [4.5559811e-03, 2.0355435e-01, 3.9373193e-04, 2.1572437e-03,\n",
              "        1.2786085e-05, 4.5095891e-04, 2.8040477e-05, 1.6497601e-04,\n",
              "        7.8361779e-01, 5.0642197e-03],\n",
              "       [8.5138732e-01, 1.0915955e-02, 3.9753724e-02, 2.4560487e-03,\n",
              "        5.1657376e-03, 3.8258757e-05, 7.8584679e-04, 4.4162061e-05,\n",
              "        8.9019001e-02, 4.3398785e-04],\n",
              "       [4.4326765e-07, 1.5950198e-05, 2.8762290e-02, 3.2094959e-02,\n",
              "        3.8095945e-01, 1.9502469e-03, 5.5610853e-01, 1.0614137e-06,\n",
              "        1.0691410e-04, 1.3789573e-07]], dtype=float32)"
            ]
          },
          "metadata": {},
          "execution_count": 43
        }
      ]
    },
    {
      "cell_type": "code",
      "metadata": {
        "colab": {
          "base_uri": "https://localhost:8080/"
        },
        "id": "6fHkpHXct5g_",
        "outputId": "ac83edbf-7d93-4aee-9e7f-c18e61cddac0"
      },
      "source": [
        "y_classes= [np.argmax(element) for element in y_pred]\n",
        "y_classes[:5]"
      ],
      "execution_count": 50,
      "outputs": [
        {
          "output_type": "execute_result",
          "data": {
            "text/plain": [
              "[3, 8, 8, 0, 6]"
            ]
          },
          "metadata": {},
          "execution_count": 50
        }
      ]
    },
    {
      "cell_type": "code",
      "metadata": {
        "colab": {
          "base_uri": "https://localhost:8080/"
        },
        "id": "Kn2k4cRGuCnY",
        "outputId": "15a97da4-ed3a-4ce6-b1cf-43ef47641600"
      },
      "source": [
        "y_test[:5]\n"
      ],
      "execution_count": 49,
      "outputs": [
        {
          "output_type": "execute_result",
          "data": {
            "text/plain": [
              "array([3, 8, 8, 0, 6], dtype=uint8)"
            ]
          },
          "metadata": {},
          "execution_count": 49
        }
      ]
    },
    {
      "cell_type": "code",
      "metadata": {
        "colab": {
          "base_uri": "https://localhost:8080/"
        },
        "id": "rX6M0EVDum7F",
        "outputId": "2e35fc24-e9ea-45ec-def6-509b6ce84815"
      },
      "source": [
        "y_pred = cnn.predict(x_test)\n",
        "y_pred_classes = [np.argmax(element) for element in y_pred]\n",
        "\n",
        "print(\"Classification Report: \\n\", classification_report(y_test, y_pred_classes))"
      ],
      "execution_count": 51,
      "outputs": [
        {
          "output_type": "stream",
          "name": "stdout",
          "text": [
            "Classification Report: \n",
            "               precision    recall  f1-score   support\n",
            "\n",
            "           0       0.73      0.71      0.72      1000\n",
            "           1       0.79      0.83      0.81      1000\n",
            "           2       0.65      0.54      0.59      1000\n",
            "           3       0.55      0.47      0.51      1000\n",
            "           4       0.66      0.65      0.65      1000\n",
            "           5       0.55      0.68      0.61      1000\n",
            "           6       0.80      0.75      0.78      1000\n",
            "           7       0.72      0.76      0.74      1000\n",
            "           8       0.80      0.79      0.79      1000\n",
            "           9       0.72      0.80      0.76      1000\n",
            "\n",
            "    accuracy                           0.70     10000\n",
            "   macro avg       0.70      0.70      0.70     10000\n",
            "weighted avg       0.70      0.70      0.70     10000\n",
            "\n"
          ]
        }
      ]
    },
    {
      "cell_type": "code",
      "metadata": {
        "id": "QJxyuaTrvPA2"
      },
      "source": [
        ""
      ],
      "execution_count": null,
      "outputs": []
    }
  ]
}